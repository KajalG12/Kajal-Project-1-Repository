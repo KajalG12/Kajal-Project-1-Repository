{
 "cells": [
  {
   "cell_type": "code",
   "execution_count": 1,
   "metadata": {},
   "outputs": [
    {
     "data": {
      "text/html": [
       "<div><div id=45174836-63eb-470e-9e78-d79923477e79 style=\"display:none; background-color:#9D6CFF; color:white; width:200px; height:30px; padding-left:5px; border-radius:4px; flex-direction:row; justify-content:space-around; align-items:center;\" onmouseover=\"this.style.backgroundColor='#BA9BF8'\" onmouseout=\"this.style.backgroundColor='#9D6CFF'\" onclick=\"window.commands?.execute('create-mitosheet-from-dataframe-output');\">See Full Dataframe in Mito</div> <script> if (window.commands?.hasCommand('create-mitosheet-from-dataframe-output')) document.getElementById('45174836-63eb-470e-9e78-d79923477e79').style.display = 'flex' </script> <table border=\"1\" class=\"dataframe\">\n",
       "  <thead>\n",
       "    <tr style=\"text-align: right;\">\n",
       "      <th></th>\n",
       "      <th>Country</th>\n",
       "      <th>Year</th>\n",
       "      <th>Nitrogen Oxide</th>\n",
       "      <th>Sulphur Dioxide</th>\n",
       "      <th>Carbon Monoxide</th>\n",
       "      <th>Organic Carbon</th>\n",
       "      <th>NMVOCs</th>\n",
       "      <th>Black Carbon</th>\n",
       "      <th>Ammonia</th>\n",
       "    </tr>\n",
       "  </thead>\n",
       "  <tbody>\n",
       "    <tr>\n",
       "      <th>0</th>\n",
       "      <td>Afghanistan</td>\n",
       "      <td>1750</td>\n",
       "      <td>555.42</td>\n",
       "      <td>139.42</td>\n",
       "      <td>142073.31</td>\n",
       "      <td>5456.88</td>\n",
       "      <td>13311.29</td>\n",
       "      <td>1633.03</td>\n",
       "      <td>7628.36</td>\n",
       "    </tr>\n",
       "    <tr>\n",
       "      <th>1</th>\n",
       "      <td>Afghanistan</td>\n",
       "      <td>1760</td>\n",
       "      <td>578.45</td>\n",
       "      <td>145.09</td>\n",
       "      <td>147859.24</td>\n",
       "      <td>5679.12</td>\n",
       "      <td>13853.64</td>\n",
       "      <td>1699.54</td>\n",
       "      <td>7946.02</td>\n",
       "    </tr>\n",
       "    <tr>\n",
       "      <th>2</th>\n",
       "      <td>Afghanistan</td>\n",
       "      <td>1770</td>\n",
       "      <td>602.42</td>\n",
       "      <td>150.99</td>\n",
       "      <td>153867.41</td>\n",
       "      <td>5909.88</td>\n",
       "      <td>14416.85</td>\n",
       "      <td>1768.60</td>\n",
       "      <td>8276.90</td>\n",
       "    </tr>\n",
       "    <tr>\n",
       "      <th>3</th>\n",
       "      <td>Afghanistan</td>\n",
       "      <td>1780</td>\n",
       "      <td>627.37</td>\n",
       "      <td>157.11</td>\n",
       "      <td>160104.42</td>\n",
       "      <td>6149.44</td>\n",
       "      <td>15001.56</td>\n",
       "      <td>1840.29</td>\n",
       "      <td>8621.53</td>\n",
       "    </tr>\n",
       "    <tr>\n",
       "      <th>4</th>\n",
       "      <td>Afghanistan</td>\n",
       "      <td>1790</td>\n",
       "      <td>653.34</td>\n",
       "      <td>163.46</td>\n",
       "      <td>166576.77</td>\n",
       "      <td>6398.04</td>\n",
       "      <td>15608.38</td>\n",
       "      <td>1914.68</td>\n",
       "      <td>8980.49</td>\n",
       "    </tr>\n",
       "    <tr>\n",
       "      <th>...</th>\n",
       "      <td>...</td>\n",
       "      <td>...</td>\n",
       "      <td>...</td>\n",
       "      <td>...</td>\n",
       "      <td>...</td>\n",
       "      <td>...</td>\n",
       "      <td>...</td>\n",
       "      <td>...</td>\n",
       "      <td>...</td>\n",
       "    </tr>\n",
       "    <tr>\n",
       "      <th>47530</th>\n",
       "      <td>Zimbabwe</td>\n",
       "      <td>2015</td>\n",
       "      <td>83842.10</td>\n",
       "      <td>67231.29</td>\n",
       "      <td>1610636.44</td>\n",
       "      <td>108275.48</td>\n",
       "      <td>299713.47</td>\n",
       "      <td>30912.24</td>\n",
       "      <td>112425.84</td>\n",
       "    </tr>\n",
       "    <tr>\n",
       "      <th>47531</th>\n",
       "      <td>Zimbabwe</td>\n",
       "      <td>2016</td>\n",
       "      <td>76234.43</td>\n",
       "      <td>59452.70</td>\n",
       "      <td>1632515.11</td>\n",
       "      <td>111975.72</td>\n",
       "      <td>302718.32</td>\n",
       "      <td>31570.53</td>\n",
       "      <td>115539.98</td>\n",
       "    </tr>\n",
       "    <tr>\n",
       "      <th>47532</th>\n",
       "      <td>Zimbabwe</td>\n",
       "      <td>2017</td>\n",
       "      <td>74381.80</td>\n",
       "      <td>53891.39</td>\n",
       "      <td>1657688.51</td>\n",
       "      <td>114613.20</td>\n",
       "      <td>306905.62</td>\n",
       "      <td>32344.41</td>\n",
       "      <td>118254.66</td>\n",
       "    </tr>\n",
       "    <tr>\n",
       "      <th>47533</th>\n",
       "      <td>Zimbabwe</td>\n",
       "      <td>2018</td>\n",
       "      <td>73062.53</td>\n",
       "      <td>51072.78</td>\n",
       "      <td>1653664.68</td>\n",
       "      <td>114583.51</td>\n",
       "      <td>306860.21</td>\n",
       "      <td>32365.56</td>\n",
       "      <td>119965.76</td>\n",
       "    </tr>\n",
       "    <tr>\n",
       "      <th>47534</th>\n",
       "      <td>Zimbabwe</td>\n",
       "      <td>2019</td>\n",
       "      <td>70779.92</td>\n",
       "      <td>45896.98</td>\n",
       "      <td>1647792.46</td>\n",
       "      <td>114543.28</td>\n",
       "      <td>306574.85</td>\n",
       "      <td>32364.53</td>\n",
       "      <td>121689.67</td>\n",
       "    </tr>\n",
       "  </tbody>\n",
       "</table></div>"
      ],
      "text/plain": [
       "           Country  Year  Nitrogen Oxide  Sulphur Dioxide  Carbon Monoxide  \\\n",
       "0      Afghanistan  1750          555.42           139.42        142073.31   \n",
       "1      Afghanistan  1760          578.45           145.09        147859.24   \n",
       "2      Afghanistan  1770          602.42           150.99        153867.41   \n",
       "3      Afghanistan  1780          627.37           157.11        160104.42   \n",
       "4      Afghanistan  1790          653.34           163.46        166576.77   \n",
       "...            ...   ...             ...              ...              ...   \n",
       "47530     Zimbabwe  2015        83842.10         67231.29       1610636.44   \n",
       "47531     Zimbabwe  2016        76234.43         59452.70       1632515.11   \n",
       "47532     Zimbabwe  2017        74381.80         53891.39       1657688.51   \n",
       "47533     Zimbabwe  2018        73062.53         51072.78       1653664.68   \n",
       "47534     Zimbabwe  2019        70779.92         45896.98       1647792.46   \n",
       "\n",
       "       Organic Carbon     NMVOCs  Black Carbon    Ammonia  \n",
       "0             5456.88   13311.29       1633.03    7628.36  \n",
       "1             5679.12   13853.64       1699.54    7946.02  \n",
       "2             5909.88   14416.85       1768.60    8276.90  \n",
       "3             6149.44   15001.56       1840.29    8621.53  \n",
       "4             6398.04   15608.38       1914.68    8980.49  \n",
       "...               ...        ...           ...        ...  \n",
       "47530       108275.48  299713.47      30912.24  112425.84  \n",
       "47531       111975.72  302718.32      31570.53  115539.98  \n",
       "47532       114613.20  306905.62      32344.41  118254.66  \n",
       "47533       114583.51  306860.21      32365.56  119965.76  \n",
       "47534       114543.28  306574.85      32364.53  121689.67  \n",
       "\n",
       "[47535 rows x 9 columns]"
      ]
     },
     "execution_count": 1,
     "metadata": {},
     "output_type": "execute_result"
    }
   ],
   "source": [
    "import pandas as pd  \n",
    "data=pd.read_csv('air-pollution.csv')\n",
    "data"
   ]
  },
  {
   "cell_type": "markdown",
   "metadata": {},
   "source": []
  },
  {
   "cell_type": "code",
   "execution_count": 2,
   "metadata": {},
   "outputs": [
    {
     "data": {
      "text/plain": [
       "(47535, 9)"
      ]
     },
     "execution_count": 2,
     "metadata": {},
     "output_type": "execute_result"
    }
   ],
   "source": [
    "data.shape"
   ]
  },
  {
   "cell_type": "code",
   "execution_count": 5,
   "metadata": {},
   "outputs": [
    {
     "data": {
      "text/plain": [
       "Country            47535\n",
       "Year               47535\n",
       "Nitrogen Oxide     47535\n",
       "Sulphur Dioxide    47535\n",
       "Carbon Monoxide    47535\n",
       "Organic Carbon     47535\n",
       "NMVOCs             47535\n",
       "Black Carbon       47535\n",
       "Ammonia            47535\n",
       "dtype: int64"
      ]
     },
     "execution_count": 5,
     "metadata": {},
     "output_type": "execute_result"
    }
   ],
   "source": [
    "data.count()"
   ]
  },
  {
   "cell_type": "code",
   "execution_count": 6,
   "metadata": {},
   "outputs": [
    {
     "name": "stdout",
     "output_type": "stream",
     "text": [
      "<class 'pandas.core.frame.DataFrame'>\n",
      "RangeIndex: 47535 entries, 0 to 47534\n",
      "Data columns (total 9 columns):\n",
      " #   Column           Non-Null Count  Dtype  \n",
      "---  ------           --------------  -----  \n",
      " 0   Country          47535 non-null  object \n",
      " 1   Year             47535 non-null  int64  \n",
      " 2   Nitrogen Oxide   47535 non-null  float64\n",
      " 3   Sulphur Dioxide  47535 non-null  float64\n",
      " 4   Carbon Monoxide  47535 non-null  float64\n",
      " 5   Organic Carbon   47535 non-null  float64\n",
      " 6   NMVOCs           47535 non-null  float64\n",
      " 7   Black Carbon     47535 non-null  float64\n",
      " 8   Ammonia          47535 non-null  float64\n",
      "dtypes: float64(7), int64(1), object(1)\n",
      "memory usage: 3.3+ MB\n"
     ]
    }
   ],
   "source": [
    "data.info()"
   ]
  },
  {
   "cell_type": "code",
   "execution_count": 7,
   "metadata": {},
   "outputs": [
    {
     "data": {
      "text/plain": [
       "Country            0\n",
       "Year               0\n",
       "Nitrogen Oxide     0\n",
       "Sulphur Dioxide    0\n",
       "Carbon Monoxide    0\n",
       "Organic Carbon     0\n",
       "NMVOCs             0\n",
       "Black Carbon       0\n",
       "Ammonia            0\n",
       "dtype: int64"
      ]
     },
     "execution_count": 7,
     "metadata": {},
     "output_type": "execute_result"
    }
   ],
   "source": [
    "data.isnull().sum()"
   ]
  },
  {
   "cell_type": "code",
   "execution_count": 8,
   "metadata": {},
   "outputs": [
    {
     "data": {
      "text/html": [
       "<div><div id=54ed4143-db3c-4eb0-bc9c-2e5e944712d2 style=\"display:none; background-color:#9D6CFF; color:white; width:200px; height:30px; padding-left:5px; border-radius:4px; flex-direction:row; justify-content:space-around; align-items:center;\" onmouseover=\"this.style.backgroundColor='#BA9BF8'\" onmouseout=\"this.style.backgroundColor='#9D6CFF'\" onclick=\"window.commands?.execute('create-mitosheet-from-dataframe-output');\">See Full Dataframe in Mito</div> <script> if (window.commands?.hasCommand('create-mitosheet-from-dataframe-output')) document.getElementById('54ed4143-db3c-4eb0-bc9c-2e5e944712d2').style.display = 'flex' </script> <table border=\"1\" class=\"dataframe\">\n",
       "  <thead>\n",
       "    <tr style=\"text-align: right;\">\n",
       "      <th></th>\n",
       "      <th>Country</th>\n",
       "      <th>Year</th>\n",
       "      <th>Nitrogen Oxide</th>\n",
       "      <th>Sulphur Dioxide</th>\n",
       "      <th>Carbon Monoxide</th>\n",
       "      <th>Organic Carbon</th>\n",
       "      <th>NMVOCs</th>\n",
       "      <th>Black Carbon</th>\n",
       "      <th>Ammonia</th>\n",
       "    </tr>\n",
       "  </thead>\n",
       "  <tbody>\n",
       "  </tbody>\n",
       "</table></div>"
      ],
      "text/plain": [
       "Empty DataFrame\n",
       "Columns: [Country, Year, Nitrogen Oxide, Sulphur Dioxide, Carbon Monoxide, Organic Carbon, NMVOCs, Black Carbon, Ammonia]\n",
       "Index: []"
      ]
     },
     "execution_count": 8,
     "metadata": {},
     "output_type": "execute_result"
    }
   ],
   "source": [
    "data[data.duplicated()]"
   ]
  },
  {
   "cell_type": "code",
   "execution_count": 10,
   "metadata": {},
   "outputs": [
    {
     "data": {
      "text/plain": [
       "array(['Afghanistan', 'Africa', 'Albania', 'Algeria', 'American Samoa',\n",
       "       'Angola', 'Antigua and Barbuda', 'Argentina', 'Armenia', 'Aruba',\n",
       "       'Asia', 'Australia', 'Austria', 'Azerbaijan', 'Bahamas', 'Bahrain',\n",
       "       'Bangladesh', 'Barbados', 'Belarus', 'Belgium', 'Belize', 'Benin',\n",
       "       'Bermuda', 'Bhutan', 'Bolivia', 'Bosnia and Herzegovina',\n",
       "       'Botswana', 'Brazil', 'British Virgin Islands', 'Brunei',\n",
       "       'Bulgaria', 'Burkina Faso', 'Burundi', 'Cambodia', 'Cameroon',\n",
       "       'Canada', 'Cape Verde', 'Cayman Islands',\n",
       "       'Central African Republic', 'Chad', 'Chile', 'China', 'Colombia',\n",
       "       'Comoros', 'Congo', 'Cook Islands', 'Costa Rica', \"Cote d'Ivoire\",\n",
       "       'Croatia', 'Cuba', 'Curacao', 'Cyprus', 'Czechia',\n",
       "       'Democratic Republic of Congo', 'Denmark', 'Djibouti', 'Dominica',\n",
       "       'Dominican Republic', 'Ecuador', 'Egypt', 'El Salvador',\n",
       "       'Equatorial Guinea', 'Eritrea', 'Estonia', 'Eswatini', 'Ethiopia',\n",
       "       'Europe', 'Faeroe Islands', 'Falkland Islands', 'Fiji', 'Finland',\n",
       "       'France', 'French Guiana', 'French Polynesia', 'Gabon', 'Gambia',\n",
       "       'Georgia', 'Germany', 'Ghana', 'Gibraltar', 'Greece', 'Greenland',\n",
       "       'Grenada', 'Guadeloupe', 'Guam', 'Guatemala', 'Guinea',\n",
       "       'Guinea-Bissau', 'Guyana', 'Haiti', 'High-income countries',\n",
       "       'Honduras', 'Hong Kong', 'Hungary', 'Iceland', 'India',\n",
       "       'Indonesia', 'Iran', 'Iraq', 'Ireland', 'Israel', 'Italy',\n",
       "       'Jamaica', 'Japan', 'Jordan', 'Kazakhstan', 'Kenya', 'Kiribati',\n",
       "       'Kuwait', 'Kyrgyzstan', 'Laos', 'Latvia', 'Lebanon', 'Lesotho',\n",
       "       'Liberia', 'Libya', 'Liechtenstein', 'Lithuania',\n",
       "       'Low-income countries', 'Lower-middle-income countries',\n",
       "       'Luxembourg', 'Macao', 'Madagascar', 'Malawi', 'Malaysia',\n",
       "       'Maldives', 'Mali', 'Malta', 'Marshall Islands', 'Martinique',\n",
       "       'Mauritania', 'Mauritius', 'Mexico', 'Micronesia (country)',\n",
       "       'Moldova', 'Mongolia', 'Montenegro', 'Montserrat', 'Morocco',\n",
       "       'Mozambique', 'Myanmar', 'Namibia', 'Nepal', 'Netherlands',\n",
       "       'New Caledonia', 'New Zealand', 'Nicaragua', 'Niger', 'Nigeria',\n",
       "       'Niue', 'North America', 'North Korea', 'North Macedonia',\n",
       "       'Norway', 'Oceania', 'Oman', 'Pakistan', 'Palau', 'Panama',\n",
       "       'Papua New Guinea', 'Paraguay', 'Peru', 'Philippines', 'Poland',\n",
       "       'Portugal', 'Puerto Rico', 'Qatar', 'Reunion', 'Romania', 'Russia',\n",
       "       'Rwanda', 'Saint Kitts and Nevis', 'Saint Lucia',\n",
       "       'Saint Pierre and Miquelon', 'Saint Vincent and the Grenadines',\n",
       "       'Samoa', 'Sao Tome and Principe', 'Saudi Arabia', 'Senegal',\n",
       "       'Serbia', 'Seychelles', 'Sierra Leone', 'Singapore',\n",
       "       'Sint Maarten (Dutch part)', 'Slovakia', 'Slovenia',\n",
       "       'Solomon Islands', 'Somalia', 'South Africa', 'South America',\n",
       "       'South Korea', 'South Sudan', 'Spain', 'Sri Lanka', 'Sudan',\n",
       "       'Suriname', 'Sweden', 'Switzerland', 'Syria', 'Taiwan',\n",
       "       'Tajikistan', 'Tanzania', 'Thailand', 'Timor', 'Togo', 'Tokelau',\n",
       "       'Tonga', 'Trinidad and Tobago', 'Tunisia', 'Turkey',\n",
       "       'Turkmenistan', 'Turks and Caicos Islands', 'Uganda', 'Ukraine',\n",
       "       'United Arab Emirates', 'United Kingdom', 'United States',\n",
       "       'United States Virgin Islands', 'Upper-middle-income countries',\n",
       "       'Uruguay', 'Uzbekistan', 'Vanuatu', 'Venezuela', 'Vietnam',\n",
       "       'Wallis and Futuna', 'Western Sahara', 'World', 'Yemen', 'Zambia',\n",
       "       'Zimbabwe'], dtype=object)"
      ]
     },
     "execution_count": 10,
     "metadata": {},
     "output_type": "execute_result"
    }
   ],
   "source": [
    "data['Country'].unique()"
   ]
  },
  {
   "cell_type": "code",
   "execution_count": 12,
   "metadata": {},
   "outputs": [
    {
     "data": {
      "text/plain": [
       "array([1750, 1760, 1770, 1780, 1790, 1800, 1801, 1802, 1803, 1804, 1805,\n",
       "       1806, 1807, 1808, 1809, 1810, 1811, 1812, 1813, 1814, 1815, 1816,\n",
       "       1817, 1818, 1819, 1820, 1821, 1822, 1823, 1824, 1825, 1826, 1827,\n",
       "       1828, 1829, 1830, 1831, 1832, 1833, 1834, 1835, 1836, 1837, 1838,\n",
       "       1839, 1840, 1841, 1842, 1843, 1844, 1845, 1846, 1847, 1848, 1849,\n",
       "       1850, 1851, 1852, 1853, 1854, 1855, 1856, 1857, 1858, 1859, 1860,\n",
       "       1861, 1862, 1863, 1864, 1865, 1866, 1867, 1868, 1869, 1870, 1871,\n",
       "       1872, 1873, 1874, 1875, 1876, 1877, 1878, 1879, 1880, 1881, 1882,\n",
       "       1883, 1884, 1885, 1886, 1887, 1888, 1889, 1890, 1891, 1892, 1893,\n",
       "       1894, 1895, 1896, 1897, 1898, 1899, 1900, 1901, 1902, 1903, 1904,\n",
       "       1905, 1906, 1907, 1908, 1909, 1910, 1911, 1912, 1913, 1914, 1915,\n",
       "       1916, 1917, 1918, 1919, 1920, 1921, 1922, 1923, 1924, 1925, 1926,\n",
       "       1927, 1928, 1929, 1930, 1931, 1932, 1933, 1934, 1935, 1936, 1937,\n",
       "       1938, 1939, 1940, 1941, 1942, 1943, 1944, 1945, 1946, 1947, 1948,\n",
       "       1949, 1950, 1951, 1952, 1953, 1954, 1955, 1956, 1957, 1958, 1959,\n",
       "       1960, 1961, 1962, 1963, 1964, 1965, 1966, 1967, 1968, 1969, 1970,\n",
       "       1971, 1972, 1973, 1974, 1975, 1976, 1977, 1978, 1979, 1980, 1981,\n",
       "       1982, 1983, 1984, 1985, 1986, 1987, 1988, 1989, 1990, 1991, 1992,\n",
       "       1993, 1994, 1995, 1996, 1997, 1998, 1999, 2000, 2001, 2002, 2003,\n",
       "       2004, 2005, 2006, 2007, 2008, 2009, 2010, 2011, 2012, 2013, 2014,\n",
       "       2015, 2016, 2017, 2018, 2019], dtype=int64)"
      ]
     },
     "execution_count": 12,
     "metadata": {},
     "output_type": "execute_result"
    }
   ],
   "source": [
    "data['Year'].unique()"
   ]
  },
  {
   "attachments": {},
   "cell_type": "markdown",
   "metadata": {},
   "source": [
    "- Top 20 countries who emits highest amount of 'Carbon Monoxide'"
   ]
  },
  {
   "cell_type": "code",
   "execution_count": 33,
   "metadata": {},
   "outputs": [
    {
     "data": {
      "text/plain": [
       "Country\n",
       "World                            6.157096e+10\n",
       "Asia                             2.587719e+10\n",
       "High-income countries            2.465349e+10\n",
       "Upper-middle-income countries    2.185557e+10\n",
       "North America                    1.535420e+10\n",
       "China                            1.381738e+10\n",
       "United States                    1.290595e+10\n",
       "Europe                           1.287831e+10\n",
       "Lower-middle-income countries    1.182017e+10\n",
       "Africa                           4.783026e+09\n",
       "India                            4.592314e+09\n",
       "Low-income countries             2.891270e+09\n",
       "Russia                           2.729556e+09\n",
       "South America                    2.257326e+09\n",
       "France                           1.808426e+09\n",
       "United Kingdom                   1.561339e+09\n",
       "Germany                          1.414913e+09\n",
       "Indonesia                        1.172292e+09\n",
       "Canada                           1.160099e+09\n",
       "Nigeria                          9.764349e+08\n",
       "Name: Carbon Monoxide, dtype: float64"
      ]
     },
     "execution_count": 33,
     "metadata": {},
     "output_type": "execute_result"
    }
   ],
   "source": [
    "data.groupby('Country')['Carbon Monoxide'].sum().sort_values(ascending=False).head(20)"
   ]
  },
  {
   "attachments": {},
   "cell_type": "markdown",
   "metadata": {},
   "source": [
    "- Countries who emits least amount of 'Carbon Monoxide'"
   ]
  },
  {
   "cell_type": "code",
   "execution_count": 37,
   "metadata": {},
   "outputs": [
    {
     "data": {
      "text/plain": [
       "Country\n",
       "Guam                               115.31\n",
       "Greenland                         1447.36\n",
       "Tokelau                           3956.84\n",
       "Niue                             11455.08\n",
       "Faeroe Islands                   16779.95\n",
       "Falkland Islands                 22218.22\n",
       "Wallis and Futuna                29485.20\n",
       "Turks and Caicos Islands         37148.91\n",
       "Saint Pierre and Miquelon        49373.26\n",
       "Cook Islands                     57377.74\n",
       "British Virgin Islands           60536.03\n",
       "American Samoa                   69958.02\n",
       "Western Sahara                   86794.77\n",
       "Marshall Islands                102223.86\n",
       "Liechtenstein                   120879.85\n",
       "Kiribati                        176068.25\n",
       "Gibraltar                       193053.30\n",
       "United States Virgin Islands    230000.81\n",
       "Sint Maarten (Dutch part)       239792.08\n",
       "Cayman Islands                  291513.09\n",
       "Name: Carbon Monoxide, dtype: float64"
      ]
     },
     "execution_count": 37,
     "metadata": {},
     "output_type": "execute_result"
    }
   ],
   "source": [
    "data.groupby('Country')['Carbon Monoxide'].sum().sort_values(ascending=True).head(20)"
   ]
  },
  {
   "cell_type": "code",
   "execution_count": 35,
   "metadata": {},
   "outputs": [
    {
     "data": {
      "text/plain": [
       "Year\n",
       "1989    2.640804e+09\n",
       "1988    2.630584e+09\n",
       "1991    2.625893e+09\n",
       "1992    2.604337e+09\n",
       "1990    2.603653e+09\n",
       "1993    2.596978e+09\n",
       "1987    2.590727e+09\n",
       "1995    2.584673e+09\n",
       "1994    2.562913e+09\n",
       "1986    2.548882e+09\n",
       "Name: Carbon Monoxide, dtype: float64"
      ]
     },
     "execution_count": 35,
     "metadata": {},
     "output_type": "execute_result"
    }
   ],
   "source": [
    "data.groupby('Year')['Carbon Monoxide'].sum().sort_values(ascending=False).head(10)"
   ]
  },
  {
   "cell_type": "code",
   "execution_count": 36,
   "metadata": {},
   "outputs": [
    {
     "data": {
      "text/plain": [
       "5173732.871237825"
      ]
     },
     "execution_count": 36,
     "metadata": {},
     "output_type": "execute_result"
    }
   ],
   "source": [
    "data['Carbon Monoxide'].mean()"
   ]
  }
 ],
 "metadata": {
  "kernelspec": {
   "display_name": "Python 3",
   "language": "python",
   "name": "python3"
  },
  "language_info": {
   "codemirror_mode": {
    "name": "ipython",
    "version": 3
   },
   "file_extension": ".py",
   "mimetype": "text/x-python",
   "name": "python",
   "nbconvert_exporter": "python",
   "pygments_lexer": "ipython3",
   "version": "3.10.6"
  },
  "orig_nbformat": 4,
  "vscode": {
   "interpreter": {
    "hash": "bb8318c86f3c5f0d51897a74c1a132cbf2f6a37205b70cdb365bea223b185e68"
   }
  }
 },
 "nbformat": 4,
 "nbformat_minor": 2
}
